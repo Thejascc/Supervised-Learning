{
 "cells": [
  {
   "cell_type": "code",
   "execution_count": 1,
   "id": "bf4bcfbd",
   "metadata": {},
   "outputs": [],
   "source": [
    "import numpy as np\n",
    "import pandas as pd\n",
    "import seaborn as sns\n",
    "import matplotlib.pyplot as plt\n",
    "from sklearn.model_selection import train_test_split\n",
    "from sklearn.preprocessing import StandardScaler\n",
    "from sklearn.metrics import accuracy_score,precision_score,recall_score,f1_score,classification_report\n",
    "import warnings\n",
    "warnings.filterwarnings('ignore')"
   ]
  },
  {
   "cell_type": "markdown",
   "id": "abc8ae44",
   "metadata": {},
   "source": [
    "# Loading and Preprocessing"
   ]
  },
  {
   "cell_type": "code",
   "execution_count": 2,
   "id": "1b1c22a4",
   "metadata": {},
   "outputs": [],
   "source": [
    "from sklearn.datasets import load_breast_cancer\n",
    "\n",
    "data = load_breast_cancer()\n",
    "\n",
    "df = pd.DataFrame(data=data.data,columns=data.feature_names)"
   ]
  },
  {
   "cell_type": "code",
   "execution_count": 3,
   "id": "9f06fdc5",
   "metadata": {},
   "outputs": [
    {
     "data": {
      "text/html": [
       "<div>\n",
       "<style scoped>\n",
       "    .dataframe tbody tr th:only-of-type {\n",
       "        vertical-align: middle;\n",
       "    }\n",
       "\n",
       "    .dataframe tbody tr th {\n",
       "        vertical-align: top;\n",
       "    }\n",
       "\n",
       "    .dataframe thead th {\n",
       "        text-align: right;\n",
       "    }\n",
       "</style>\n",
       "<table border=\"1\" class=\"dataframe\">\n",
       "  <thead>\n",
       "    <tr style=\"text-align: right;\">\n",
       "      <th></th>\n",
       "      <th>mean radius</th>\n",
       "      <th>mean texture</th>\n",
       "      <th>mean perimeter</th>\n",
       "      <th>mean area</th>\n",
       "      <th>mean smoothness</th>\n",
       "      <th>mean compactness</th>\n",
       "      <th>mean concavity</th>\n",
       "      <th>mean concave points</th>\n",
       "      <th>mean symmetry</th>\n",
       "      <th>mean fractal dimension</th>\n",
       "      <th>...</th>\n",
       "      <th>worst radius</th>\n",
       "      <th>worst texture</th>\n",
       "      <th>worst perimeter</th>\n",
       "      <th>worst area</th>\n",
       "      <th>worst smoothness</th>\n",
       "      <th>worst compactness</th>\n",
       "      <th>worst concavity</th>\n",
       "      <th>worst concave points</th>\n",
       "      <th>worst symmetry</th>\n",
       "      <th>worst fractal dimension</th>\n",
       "    </tr>\n",
       "  </thead>\n",
       "  <tbody>\n",
       "    <tr>\n",
       "      <th>0</th>\n",
       "      <td>17.99</td>\n",
       "      <td>10.38</td>\n",
       "      <td>122.80</td>\n",
       "      <td>1001.0</td>\n",
       "      <td>0.11840</td>\n",
       "      <td>0.27760</td>\n",
       "      <td>0.3001</td>\n",
       "      <td>0.14710</td>\n",
       "      <td>0.2419</td>\n",
       "      <td>0.07871</td>\n",
       "      <td>...</td>\n",
       "      <td>25.38</td>\n",
       "      <td>17.33</td>\n",
       "      <td>184.60</td>\n",
       "      <td>2019.0</td>\n",
       "      <td>0.1622</td>\n",
       "      <td>0.6656</td>\n",
       "      <td>0.7119</td>\n",
       "      <td>0.2654</td>\n",
       "      <td>0.4601</td>\n",
       "      <td>0.11890</td>\n",
       "    </tr>\n",
       "    <tr>\n",
       "      <th>1</th>\n",
       "      <td>20.57</td>\n",
       "      <td>17.77</td>\n",
       "      <td>132.90</td>\n",
       "      <td>1326.0</td>\n",
       "      <td>0.08474</td>\n",
       "      <td>0.07864</td>\n",
       "      <td>0.0869</td>\n",
       "      <td>0.07017</td>\n",
       "      <td>0.1812</td>\n",
       "      <td>0.05667</td>\n",
       "      <td>...</td>\n",
       "      <td>24.99</td>\n",
       "      <td>23.41</td>\n",
       "      <td>158.80</td>\n",
       "      <td>1956.0</td>\n",
       "      <td>0.1238</td>\n",
       "      <td>0.1866</td>\n",
       "      <td>0.2416</td>\n",
       "      <td>0.1860</td>\n",
       "      <td>0.2750</td>\n",
       "      <td>0.08902</td>\n",
       "    </tr>\n",
       "    <tr>\n",
       "      <th>2</th>\n",
       "      <td>19.69</td>\n",
       "      <td>21.25</td>\n",
       "      <td>130.00</td>\n",
       "      <td>1203.0</td>\n",
       "      <td>0.10960</td>\n",
       "      <td>0.15990</td>\n",
       "      <td>0.1974</td>\n",
       "      <td>0.12790</td>\n",
       "      <td>0.2069</td>\n",
       "      <td>0.05999</td>\n",
       "      <td>...</td>\n",
       "      <td>23.57</td>\n",
       "      <td>25.53</td>\n",
       "      <td>152.50</td>\n",
       "      <td>1709.0</td>\n",
       "      <td>0.1444</td>\n",
       "      <td>0.4245</td>\n",
       "      <td>0.4504</td>\n",
       "      <td>0.2430</td>\n",
       "      <td>0.3613</td>\n",
       "      <td>0.08758</td>\n",
       "    </tr>\n",
       "    <tr>\n",
       "      <th>3</th>\n",
       "      <td>11.42</td>\n",
       "      <td>20.38</td>\n",
       "      <td>77.58</td>\n",
       "      <td>386.1</td>\n",
       "      <td>0.14250</td>\n",
       "      <td>0.28390</td>\n",
       "      <td>0.2414</td>\n",
       "      <td>0.10520</td>\n",
       "      <td>0.2597</td>\n",
       "      <td>0.09744</td>\n",
       "      <td>...</td>\n",
       "      <td>14.91</td>\n",
       "      <td>26.50</td>\n",
       "      <td>98.87</td>\n",
       "      <td>567.7</td>\n",
       "      <td>0.2098</td>\n",
       "      <td>0.8663</td>\n",
       "      <td>0.6869</td>\n",
       "      <td>0.2575</td>\n",
       "      <td>0.6638</td>\n",
       "      <td>0.17300</td>\n",
       "    </tr>\n",
       "    <tr>\n",
       "      <th>4</th>\n",
       "      <td>20.29</td>\n",
       "      <td>14.34</td>\n",
       "      <td>135.10</td>\n",
       "      <td>1297.0</td>\n",
       "      <td>0.10030</td>\n",
       "      <td>0.13280</td>\n",
       "      <td>0.1980</td>\n",
       "      <td>0.10430</td>\n",
       "      <td>0.1809</td>\n",
       "      <td>0.05883</td>\n",
       "      <td>...</td>\n",
       "      <td>22.54</td>\n",
       "      <td>16.67</td>\n",
       "      <td>152.20</td>\n",
       "      <td>1575.0</td>\n",
       "      <td>0.1374</td>\n",
       "      <td>0.2050</td>\n",
       "      <td>0.4000</td>\n",
       "      <td>0.1625</td>\n",
       "      <td>0.2364</td>\n",
       "      <td>0.07678</td>\n",
       "    </tr>\n",
       "  </tbody>\n",
       "</table>\n",
       "<p>5 rows × 30 columns</p>\n",
       "</div>"
      ],
      "text/plain": [
       "   mean radius  mean texture  mean perimeter  mean area  mean smoothness  \\\n",
       "0        17.99         10.38          122.80     1001.0          0.11840   \n",
       "1        20.57         17.77          132.90     1326.0          0.08474   \n",
       "2        19.69         21.25          130.00     1203.0          0.10960   \n",
       "3        11.42         20.38           77.58      386.1          0.14250   \n",
       "4        20.29         14.34          135.10     1297.0          0.10030   \n",
       "\n",
       "   mean compactness  mean concavity  mean concave points  mean symmetry  \\\n",
       "0           0.27760          0.3001              0.14710         0.2419   \n",
       "1           0.07864          0.0869              0.07017         0.1812   \n",
       "2           0.15990          0.1974              0.12790         0.2069   \n",
       "3           0.28390          0.2414              0.10520         0.2597   \n",
       "4           0.13280          0.1980              0.10430         0.1809   \n",
       "\n",
       "   mean fractal dimension  ...  worst radius  worst texture  worst perimeter  \\\n",
       "0                 0.07871  ...         25.38          17.33           184.60   \n",
       "1                 0.05667  ...         24.99          23.41           158.80   \n",
       "2                 0.05999  ...         23.57          25.53           152.50   \n",
       "3                 0.09744  ...         14.91          26.50            98.87   \n",
       "4                 0.05883  ...         22.54          16.67           152.20   \n",
       "\n",
       "   worst area  worst smoothness  worst compactness  worst concavity  \\\n",
       "0      2019.0            0.1622             0.6656           0.7119   \n",
       "1      1956.0            0.1238             0.1866           0.2416   \n",
       "2      1709.0            0.1444             0.4245           0.4504   \n",
       "3       567.7            0.2098             0.8663           0.6869   \n",
       "4      1575.0            0.1374             0.2050           0.4000   \n",
       "\n",
       "   worst concave points  worst symmetry  worst fractal dimension  \n",
       "0                0.2654          0.4601                  0.11890  \n",
       "1                0.1860          0.2750                  0.08902  \n",
       "2                0.2430          0.3613                  0.08758  \n",
       "3                0.2575          0.6638                  0.17300  \n",
       "4                0.1625          0.2364                  0.07678  \n",
       "\n",
       "[5 rows x 30 columns]"
      ]
     },
     "execution_count": 3,
     "metadata": {},
     "output_type": "execute_result"
    }
   ],
   "source": [
    "df.head()"
   ]
  },
  {
   "cell_type": "code",
   "execution_count": 4,
   "id": "1bffdcb2",
   "metadata": {},
   "outputs": [
    {
     "name": "stdout",
     "output_type": "stream",
     "text": [
      "<class 'pandas.core.frame.DataFrame'>\n",
      "RangeIndex: 569 entries, 0 to 568\n",
      "Data columns (total 30 columns):\n",
      " #   Column                   Non-Null Count  Dtype  \n",
      "---  ------                   --------------  -----  \n",
      " 0   mean radius              569 non-null    float64\n",
      " 1   mean texture             569 non-null    float64\n",
      " 2   mean perimeter           569 non-null    float64\n",
      " 3   mean area                569 non-null    float64\n",
      " 4   mean smoothness          569 non-null    float64\n",
      " 5   mean compactness         569 non-null    float64\n",
      " 6   mean concavity           569 non-null    float64\n",
      " 7   mean concave points      569 non-null    float64\n",
      " 8   mean symmetry            569 non-null    float64\n",
      " 9   mean fractal dimension   569 non-null    float64\n",
      " 10  radius error             569 non-null    float64\n",
      " 11  texture error            569 non-null    float64\n",
      " 12  perimeter error          569 non-null    float64\n",
      " 13  area error               569 non-null    float64\n",
      " 14  smoothness error         569 non-null    float64\n",
      " 15  compactness error        569 non-null    float64\n",
      " 16  concavity error          569 non-null    float64\n",
      " 17  concave points error     569 non-null    float64\n",
      " 18  symmetry error           569 non-null    float64\n",
      " 19  fractal dimension error  569 non-null    float64\n",
      " 20  worst radius             569 non-null    float64\n",
      " 21  worst texture            569 non-null    float64\n",
      " 22  worst perimeter          569 non-null    float64\n",
      " 23  worst area               569 non-null    float64\n",
      " 24  worst smoothness         569 non-null    float64\n",
      " 25  worst compactness        569 non-null    float64\n",
      " 26  worst concavity          569 non-null    float64\n",
      " 27  worst concave points     569 non-null    float64\n",
      " 28  worst symmetry           569 non-null    float64\n",
      " 29  worst fractal dimension  569 non-null    float64\n",
      "dtypes: float64(30)\n",
      "memory usage: 133.5 KB\n"
     ]
    }
   ],
   "source": [
    "df.info()"
   ]
  },
  {
   "cell_type": "code",
   "execution_count": 5,
   "id": "f15a8161",
   "metadata": {},
   "outputs": [
    {
     "data": {
      "text/html": [
       "<div>\n",
       "<style scoped>\n",
       "    .dataframe tbody tr th:only-of-type {\n",
       "        vertical-align: middle;\n",
       "    }\n",
       "\n",
       "    .dataframe tbody tr th {\n",
       "        vertical-align: top;\n",
       "    }\n",
       "\n",
       "    .dataframe thead th {\n",
       "        text-align: right;\n",
       "    }\n",
       "</style>\n",
       "<table border=\"1\" class=\"dataframe\">\n",
       "  <thead>\n",
       "    <tr style=\"text-align: right;\">\n",
       "      <th></th>\n",
       "      <th>mean radius</th>\n",
       "      <th>mean texture</th>\n",
       "      <th>mean perimeter</th>\n",
       "      <th>mean area</th>\n",
       "      <th>mean smoothness</th>\n",
       "      <th>mean compactness</th>\n",
       "      <th>mean concavity</th>\n",
       "      <th>mean concave points</th>\n",
       "      <th>mean symmetry</th>\n",
       "      <th>mean fractal dimension</th>\n",
       "      <th>...</th>\n",
       "      <th>worst radius</th>\n",
       "      <th>worst texture</th>\n",
       "      <th>worst perimeter</th>\n",
       "      <th>worst area</th>\n",
       "      <th>worst smoothness</th>\n",
       "      <th>worst compactness</th>\n",
       "      <th>worst concavity</th>\n",
       "      <th>worst concave points</th>\n",
       "      <th>worst symmetry</th>\n",
       "      <th>worst fractal dimension</th>\n",
       "    </tr>\n",
       "  </thead>\n",
       "  <tbody>\n",
       "    <tr>\n",
       "      <th>count</th>\n",
       "      <td>569.000000</td>\n",
       "      <td>569.000000</td>\n",
       "      <td>569.000000</td>\n",
       "      <td>569.000000</td>\n",
       "      <td>569.000000</td>\n",
       "      <td>569.000000</td>\n",
       "      <td>569.000000</td>\n",
       "      <td>569.000000</td>\n",
       "      <td>569.000000</td>\n",
       "      <td>569.000000</td>\n",
       "      <td>...</td>\n",
       "      <td>569.000000</td>\n",
       "      <td>569.000000</td>\n",
       "      <td>569.000000</td>\n",
       "      <td>569.000000</td>\n",
       "      <td>569.000000</td>\n",
       "      <td>569.000000</td>\n",
       "      <td>569.000000</td>\n",
       "      <td>569.000000</td>\n",
       "      <td>569.000000</td>\n",
       "      <td>569.000000</td>\n",
       "    </tr>\n",
       "    <tr>\n",
       "      <th>mean</th>\n",
       "      <td>14.127292</td>\n",
       "      <td>19.289649</td>\n",
       "      <td>91.969033</td>\n",
       "      <td>654.889104</td>\n",
       "      <td>0.096360</td>\n",
       "      <td>0.104341</td>\n",
       "      <td>0.088799</td>\n",
       "      <td>0.048919</td>\n",
       "      <td>0.181162</td>\n",
       "      <td>0.062798</td>\n",
       "      <td>...</td>\n",
       "      <td>16.269190</td>\n",
       "      <td>25.677223</td>\n",
       "      <td>107.261213</td>\n",
       "      <td>880.583128</td>\n",
       "      <td>0.132369</td>\n",
       "      <td>0.254265</td>\n",
       "      <td>0.272188</td>\n",
       "      <td>0.114606</td>\n",
       "      <td>0.290076</td>\n",
       "      <td>0.083946</td>\n",
       "    </tr>\n",
       "    <tr>\n",
       "      <th>std</th>\n",
       "      <td>3.524049</td>\n",
       "      <td>4.301036</td>\n",
       "      <td>24.298981</td>\n",
       "      <td>351.914129</td>\n",
       "      <td>0.014064</td>\n",
       "      <td>0.052813</td>\n",
       "      <td>0.079720</td>\n",
       "      <td>0.038803</td>\n",
       "      <td>0.027414</td>\n",
       "      <td>0.007060</td>\n",
       "      <td>...</td>\n",
       "      <td>4.833242</td>\n",
       "      <td>6.146258</td>\n",
       "      <td>33.602542</td>\n",
       "      <td>569.356993</td>\n",
       "      <td>0.022832</td>\n",
       "      <td>0.157336</td>\n",
       "      <td>0.208624</td>\n",
       "      <td>0.065732</td>\n",
       "      <td>0.061867</td>\n",
       "      <td>0.018061</td>\n",
       "    </tr>\n",
       "    <tr>\n",
       "      <th>min</th>\n",
       "      <td>6.981000</td>\n",
       "      <td>9.710000</td>\n",
       "      <td>43.790000</td>\n",
       "      <td>143.500000</td>\n",
       "      <td>0.052630</td>\n",
       "      <td>0.019380</td>\n",
       "      <td>0.000000</td>\n",
       "      <td>0.000000</td>\n",
       "      <td>0.106000</td>\n",
       "      <td>0.049960</td>\n",
       "      <td>...</td>\n",
       "      <td>7.930000</td>\n",
       "      <td>12.020000</td>\n",
       "      <td>50.410000</td>\n",
       "      <td>185.200000</td>\n",
       "      <td>0.071170</td>\n",
       "      <td>0.027290</td>\n",
       "      <td>0.000000</td>\n",
       "      <td>0.000000</td>\n",
       "      <td>0.156500</td>\n",
       "      <td>0.055040</td>\n",
       "    </tr>\n",
       "    <tr>\n",
       "      <th>25%</th>\n",
       "      <td>11.700000</td>\n",
       "      <td>16.170000</td>\n",
       "      <td>75.170000</td>\n",
       "      <td>420.300000</td>\n",
       "      <td>0.086370</td>\n",
       "      <td>0.064920</td>\n",
       "      <td>0.029560</td>\n",
       "      <td>0.020310</td>\n",
       "      <td>0.161900</td>\n",
       "      <td>0.057700</td>\n",
       "      <td>...</td>\n",
       "      <td>13.010000</td>\n",
       "      <td>21.080000</td>\n",
       "      <td>84.110000</td>\n",
       "      <td>515.300000</td>\n",
       "      <td>0.116600</td>\n",
       "      <td>0.147200</td>\n",
       "      <td>0.114500</td>\n",
       "      <td>0.064930</td>\n",
       "      <td>0.250400</td>\n",
       "      <td>0.071460</td>\n",
       "    </tr>\n",
       "    <tr>\n",
       "      <th>50%</th>\n",
       "      <td>13.370000</td>\n",
       "      <td>18.840000</td>\n",
       "      <td>86.240000</td>\n",
       "      <td>551.100000</td>\n",
       "      <td>0.095870</td>\n",
       "      <td>0.092630</td>\n",
       "      <td>0.061540</td>\n",
       "      <td>0.033500</td>\n",
       "      <td>0.179200</td>\n",
       "      <td>0.061540</td>\n",
       "      <td>...</td>\n",
       "      <td>14.970000</td>\n",
       "      <td>25.410000</td>\n",
       "      <td>97.660000</td>\n",
       "      <td>686.500000</td>\n",
       "      <td>0.131300</td>\n",
       "      <td>0.211900</td>\n",
       "      <td>0.226700</td>\n",
       "      <td>0.099930</td>\n",
       "      <td>0.282200</td>\n",
       "      <td>0.080040</td>\n",
       "    </tr>\n",
       "    <tr>\n",
       "      <th>75%</th>\n",
       "      <td>15.780000</td>\n",
       "      <td>21.800000</td>\n",
       "      <td>104.100000</td>\n",
       "      <td>782.700000</td>\n",
       "      <td>0.105300</td>\n",
       "      <td>0.130400</td>\n",
       "      <td>0.130700</td>\n",
       "      <td>0.074000</td>\n",
       "      <td>0.195700</td>\n",
       "      <td>0.066120</td>\n",
       "      <td>...</td>\n",
       "      <td>18.790000</td>\n",
       "      <td>29.720000</td>\n",
       "      <td>125.400000</td>\n",
       "      <td>1084.000000</td>\n",
       "      <td>0.146000</td>\n",
       "      <td>0.339100</td>\n",
       "      <td>0.382900</td>\n",
       "      <td>0.161400</td>\n",
       "      <td>0.317900</td>\n",
       "      <td>0.092080</td>\n",
       "    </tr>\n",
       "    <tr>\n",
       "      <th>max</th>\n",
       "      <td>28.110000</td>\n",
       "      <td>39.280000</td>\n",
       "      <td>188.500000</td>\n",
       "      <td>2501.000000</td>\n",
       "      <td>0.163400</td>\n",
       "      <td>0.345400</td>\n",
       "      <td>0.426800</td>\n",
       "      <td>0.201200</td>\n",
       "      <td>0.304000</td>\n",
       "      <td>0.097440</td>\n",
       "      <td>...</td>\n",
       "      <td>36.040000</td>\n",
       "      <td>49.540000</td>\n",
       "      <td>251.200000</td>\n",
       "      <td>4254.000000</td>\n",
       "      <td>0.222600</td>\n",
       "      <td>1.058000</td>\n",
       "      <td>1.252000</td>\n",
       "      <td>0.291000</td>\n",
       "      <td>0.663800</td>\n",
       "      <td>0.207500</td>\n",
       "    </tr>\n",
       "  </tbody>\n",
       "</table>\n",
       "<p>8 rows × 30 columns</p>\n",
       "</div>"
      ],
      "text/plain": [
       "       mean radius  mean texture  mean perimeter    mean area  \\\n",
       "count   569.000000    569.000000      569.000000   569.000000   \n",
       "mean     14.127292     19.289649       91.969033   654.889104   \n",
       "std       3.524049      4.301036       24.298981   351.914129   \n",
       "min       6.981000      9.710000       43.790000   143.500000   \n",
       "25%      11.700000     16.170000       75.170000   420.300000   \n",
       "50%      13.370000     18.840000       86.240000   551.100000   \n",
       "75%      15.780000     21.800000      104.100000   782.700000   \n",
       "max      28.110000     39.280000      188.500000  2501.000000   \n",
       "\n",
       "       mean smoothness  mean compactness  mean concavity  mean concave points  \\\n",
       "count       569.000000        569.000000      569.000000           569.000000   \n",
       "mean          0.096360          0.104341        0.088799             0.048919   \n",
       "std           0.014064          0.052813        0.079720             0.038803   \n",
       "min           0.052630          0.019380        0.000000             0.000000   \n",
       "25%           0.086370          0.064920        0.029560             0.020310   \n",
       "50%           0.095870          0.092630        0.061540             0.033500   \n",
       "75%           0.105300          0.130400        0.130700             0.074000   \n",
       "max           0.163400          0.345400        0.426800             0.201200   \n",
       "\n",
       "       mean symmetry  mean fractal dimension  ...  worst radius  \\\n",
       "count     569.000000              569.000000  ...    569.000000   \n",
       "mean        0.181162                0.062798  ...     16.269190   \n",
       "std         0.027414                0.007060  ...      4.833242   \n",
       "min         0.106000                0.049960  ...      7.930000   \n",
       "25%         0.161900                0.057700  ...     13.010000   \n",
       "50%         0.179200                0.061540  ...     14.970000   \n",
       "75%         0.195700                0.066120  ...     18.790000   \n",
       "max         0.304000                0.097440  ...     36.040000   \n",
       "\n",
       "       worst texture  worst perimeter   worst area  worst smoothness  \\\n",
       "count     569.000000       569.000000   569.000000        569.000000   \n",
       "mean       25.677223       107.261213   880.583128          0.132369   \n",
       "std         6.146258        33.602542   569.356993          0.022832   \n",
       "min        12.020000        50.410000   185.200000          0.071170   \n",
       "25%        21.080000        84.110000   515.300000          0.116600   \n",
       "50%        25.410000        97.660000   686.500000          0.131300   \n",
       "75%        29.720000       125.400000  1084.000000          0.146000   \n",
       "max        49.540000       251.200000  4254.000000          0.222600   \n",
       "\n",
       "       worst compactness  worst concavity  worst concave points  \\\n",
       "count         569.000000       569.000000            569.000000   \n",
       "mean            0.254265         0.272188              0.114606   \n",
       "std             0.157336         0.208624              0.065732   \n",
       "min             0.027290         0.000000              0.000000   \n",
       "25%             0.147200         0.114500              0.064930   \n",
       "50%             0.211900         0.226700              0.099930   \n",
       "75%             0.339100         0.382900              0.161400   \n",
       "max             1.058000         1.252000              0.291000   \n",
       "\n",
       "       worst symmetry  worst fractal dimension  \n",
       "count      569.000000               569.000000  \n",
       "mean         0.290076                 0.083946  \n",
       "std          0.061867                 0.018061  \n",
       "min          0.156500                 0.055040  \n",
       "25%          0.250400                 0.071460  \n",
       "50%          0.282200                 0.080040  \n",
       "75%          0.317900                 0.092080  \n",
       "max          0.663800                 0.207500  \n",
       "\n",
       "[8 rows x 30 columns]"
      ]
     },
     "execution_count": 5,
     "metadata": {},
     "output_type": "execute_result"
    }
   ],
   "source": [
    "df.describe()"
   ]
  },
  {
   "cell_type": "code",
   "execution_count": 6,
   "id": "5376f9bf",
   "metadata": {
    "scrolled": false
   },
   "outputs": [
    {
     "data": {
      "text/plain": [
       "mean radius                0\n",
       "mean texture               0\n",
       "mean perimeter             0\n",
       "mean area                  0\n",
       "mean smoothness            0\n",
       "mean compactness           0\n",
       "mean concavity             0\n",
       "mean concave points        0\n",
       "mean symmetry              0\n",
       "mean fractal dimension     0\n",
       "radius error               0\n",
       "texture error              0\n",
       "perimeter error            0\n",
       "area error                 0\n",
       "smoothness error           0\n",
       "compactness error          0\n",
       "concavity error            0\n",
       "concave points error       0\n",
       "symmetry error             0\n",
       "fractal dimension error    0\n",
       "worst radius               0\n",
       "worst texture              0\n",
       "worst perimeter            0\n",
       "worst area                 0\n",
       "worst smoothness           0\n",
       "worst compactness          0\n",
       "worst concavity            0\n",
       "worst concave points       0\n",
       "worst symmetry             0\n",
       "worst fractal dimension    0\n",
       "dtype: int64"
      ]
     },
     "execution_count": 6,
     "metadata": {},
     "output_type": "execute_result"
    }
   ],
   "source": [
    "df.isnull().sum()"
   ]
  },
  {
   "cell_type": "code",
   "execution_count": 7,
   "id": "ea4b6645",
   "metadata": {},
   "outputs": [
    {
     "data": {
      "text/plain": [
       "0"
      ]
     },
     "execution_count": 7,
     "metadata": {},
     "output_type": "execute_result"
    }
   ],
   "source": [
    "df.duplicated().sum()"
   ]
  },
  {
   "cell_type": "code",
   "execution_count": 8,
   "id": "65579c3d",
   "metadata": {},
   "outputs": [],
   "source": [
    "df['target'] = data.target"
   ]
  },
  {
   "cell_type": "code",
   "execution_count": 9,
   "id": "774b4438",
   "metadata": {},
   "outputs": [
    {
     "data": {
      "text/html": [
       "<div>\n",
       "<style scoped>\n",
       "    .dataframe tbody tr th:only-of-type {\n",
       "        vertical-align: middle;\n",
       "    }\n",
       "\n",
       "    .dataframe tbody tr th {\n",
       "        vertical-align: top;\n",
       "    }\n",
       "\n",
       "    .dataframe thead th {\n",
       "        text-align: right;\n",
       "    }\n",
       "</style>\n",
       "<table border=\"1\" class=\"dataframe\">\n",
       "  <thead>\n",
       "    <tr style=\"text-align: right;\">\n",
       "      <th></th>\n",
       "      <th>target</th>\n",
       "    </tr>\n",
       "  </thead>\n",
       "  <tbody>\n",
       "    <tr>\n",
       "      <th>0</th>\n",
       "      <td>0</td>\n",
       "    </tr>\n",
       "    <tr>\n",
       "      <th>1</th>\n",
       "      <td>0</td>\n",
       "    </tr>\n",
       "    <tr>\n",
       "      <th>2</th>\n",
       "      <td>0</td>\n",
       "    </tr>\n",
       "    <tr>\n",
       "      <th>3</th>\n",
       "      <td>0</td>\n",
       "    </tr>\n",
       "    <tr>\n",
       "      <th>4</th>\n",
       "      <td>0</td>\n",
       "    </tr>\n",
       "  </tbody>\n",
       "</table>\n",
       "</div>"
      ],
      "text/plain": [
       "   target\n",
       "0       0\n",
       "1       0\n",
       "2       0\n",
       "3       0\n",
       "4       0"
      ]
     },
     "execution_count": 9,
     "metadata": {},
     "output_type": "execute_result"
    }
   ],
   "source": [
    "df[['target']].head()"
   ]
  },
  {
   "cell_type": "markdown",
   "id": "c3b38d2b",
   "metadata": {},
   "source": [
    "here 0 is for harmless and 1 is harmfull"
   ]
  },
  {
   "cell_type": "code",
   "execution_count": 10,
   "id": "a5dbb397",
   "metadata": {},
   "outputs": [
    {
     "data": {
      "text/plain": [
       "target\n",
       "1    357\n",
       "0    212\n",
       "Name: count, dtype: int64"
      ]
     },
     "execution_count": 10,
     "metadata": {},
     "output_type": "execute_result"
    }
   ],
   "source": [
    "df.target.value_counts()"
   ]
  },
  {
   "cell_type": "code",
   "execution_count": 11,
   "id": "5c0cb266",
   "metadata": {},
   "outputs": [
    {
     "data": {
      "text/plain": [
       "<Axes: >"
      ]
     },
     "execution_count": 11,
     "metadata": {},
     "output_type": "execute_result"
    },
    {
     "data": {
      "image/png": "[encoded data removed]",
      "text/plain": [
       "<Figure size 1000x1000 with 2 Axes>"
      ]
     },
     "metadata": {},
     "output_type": "display_data"
    }
   ],
   "source": [
    "plt.figure(figsize=(10,10))\n",
    "corr=df.corr()\n",
    "sns.heatmap(corr,annot=True,cmap='coolwarm')\n"
   ]
  },
  {
   "cell_type": "code",
   "execution_count": 12,
   "id": "9c23c745",
   "metadata": {},
   "outputs": [],
   "source": [
    "X=data.data\n",
    "y=data.target\n",
    "X_train, X_test, y_train, y_test = train_test_split(X, y, test_size=0.3, random_state=42)"
   ]
  },
  {
   "cell_type": "code",
   "execution_count": 13,
   "id": "bb16c23f",
   "metadata": {},
   "outputs": [],
   "source": [
    "scaler = StandardScaler()\n",
    "X_train_scaled = scaler.fit_transform(X_train)\n",
    "X_test_scaled = scaler.transform(X_test)"
   ]
  },
  {
   "cell_type": "code",
   "execution_count": 14,
   "id": "7d5cbb04",
   "metadata": {},
   "outputs": [
    {
     "data": {
      "text/plain": [
       "1.0"
      ]
     },
     "execution_count": 14,
     "metadata": {},
     "output_type": "execute_result"
    }
   ],
   "source": [
    "X_train_scaled.mean()\n",
    "X_train_scaled.std()"
   ]
  },
  {
   "cell_type": "markdown",
   "id": "d9b551d2",
   "metadata": {},
   "source": [
    "# preprocessing steps That i have done for this data set\n"
   ]
  },
  {
   "cell_type": "markdown",
   "id": "e055b206",
   "metadata": {},
   "source": [
    "## a) Loading the Dataset"
   ]
  },
  {
   "cell_type": "markdown",
   "id": "2024e9af",
   "metadata": {},
   "source": [
    "We used the built-in Breast Cancer dataset from the sklearn.datasets module. The dataset contains 30 numeric features computed from images of breast cancer tumors and a binary target (1:Harmfull or 0:Harmless)"
   ]
  },
  {
   "cell_type": "markdown",
   "id": "ab13b7f3",
   "metadata": {},
   "source": [
    "## b) Exploring the Dataset"
   ]
  },
  {
   "cell_type": "markdown",
   "id": "fdb898a8",
   "metadata": {},
   "source": [
    "1) Data Exploration helps us understand the characteristics of the dataset (e.g., size, type of features, missing data, distribution of classes, etc.)."
   ]
  },
  {
   "cell_type": "markdown",
   "id": "0b33e224",
   "metadata": {},
   "source": [
    "2) Missing Value Check: It’s crucial to ensure no missing values exist, as most models can’t handle them. Fortunately, the Breast Cancer dataset didn’t contain any missing values."
   ]
  },
  {
   "cell_type": "markdown",
   "id": "e218447f",
   "metadata": {},
   "source": [
    "## c) Creating the Target Column for Classification"
   ]
  },
  {
   "cell_type": "markdown",
   "id": "d949fe14",
   "metadata": {},
   "source": [
    "1) Purpose: The target column represents the labels or outcomes you're trying to predict or analyze in the dataset."
   ]
  },
  {
   "cell_type": "markdown",
   "id": "76b60e8c",
   "metadata": {},
   "source": [
    "## d) Splitting the Dataset (Train-Test Split)"
   ]
  },
  {
   "cell_type": "markdown",
   "id": "774f4b6a",
   "metadata": {},
   "source": [
    "1) We split the dataset into 70% training and 30% testing sets using train_test_split from sklearn. We assigned the 30 feature columns to X and the target column to y."
   ]
  },
  {
   "cell_type": "markdown",
   "id": "cf009683",
   "metadata": {},
   "source": [
    "Train-Test Split is crucial to evaluate a model’s performance on unseen data. Training a model on the training set and testing it on the test set helps prevent overfitting, ensuring the model generalizes well to new data."
   ]
  },
  {
   "cell_type": "markdown",
   "id": "3795191e",
   "metadata": {},
   "source": [
    "## e) Feature Scaling"
   ]
  },
  {
   "cell_type": "markdown",
   "id": "5d81bba1",
   "metadata": {},
   "source": [
    "We performed Standardization (Z-score normalization) using StandardScaler on the feature columns. This transforms the features to have a mean of 0 and a standard deviation of 1."
   ]
  },
  {
   "cell_type": "markdown",
   "id": "8dbd9141",
   "metadata": {},
   "source": [
    "### Why Feature Scaling?"
   ]
  },
  {
   "cell_type": "markdown",
   "id": "f446a9d1",
   "metadata": {},
   "source": [
    "Algorithms That Rely on Distance Metrics: Many machine learning algorithms (e.g., Logistic Regression, SVM, Neural Networks, KNN) are sensitive to the scale of features. Features with larger magnitudes could dominate those with smaller magnitudes, leading to biased results."
   ]
  },
  {
   "cell_type": "markdown",
   "id": "14944fe7",
   "metadata": {},
   "source": [
    "## f) Verifying the Scaling"
   ]
  },
  {
   "cell_type": "markdown",
   "id": "4836300b",
   "metadata": {},
   "source": [
    "After applying scaling, we verified that the mean of each feature was approximately 0 and the standard deviation was 1."
   ]
  },
  {
   "cell_type": "markdown",
   "id": "c1c298c2",
   "metadata": {},
   "source": [
    "# Classification Algorithm Implementation"
   ]
  },
  {
   "cell_type": "code",
   "execution_count": 15,
   "id": "778c8403",
   "metadata": {},
   "outputs": [],
   "source": [
    "from sklearn.linear_model import LogisticRegression\n",
    "from sklearn.ensemble import RandomForestClassifier\n",
    "from sklearn.tree import DecisionTreeClassifier\n",
    "from sklearn.svm import SVC\n",
    "from sklearn.neighbors import KNeighborsClassifier\n"
   ]
  },
  {
   "cell_type": "markdown",
   "id": "1dc115dd",
   "metadata": {},
   "source": [
    "## Create Model"
   ]
  },
  {
   "cell_type": "code",
   "execution_count": 16,
   "id": "f5208c17",
   "metadata": {},
   "outputs": [],
   "source": [
    "logistic = LogisticRegression()\n",
    "decision = DecisionTreeClassifier()\n",
    "random = RandomForestClassifier()\n",
    "support = SVC()\n",
    "knearst = RandomForestClassifier()"
   ]
  },
  {
   "cell_type": "markdown",
   "id": "7cc46549",
   "metadata": {},
   "source": [
    "1) logistic = LogisticRegression(): Initializes a logistic regression model for binary classification.\n",
    "2) decision = DecisionTreeClassifier(): Initializes a decision tree classifier to make predictions based on feature splits.\n",
    "3) random = RandomForestClassifier(): Initializes a random forest classifier that uses an ensemble of decision trees for improved accuracy.\n",
    "4) support = SVC(): Initializes a support vector classifier for complex classification problems.\n",
    "5) knearst = KNeighborsClassifier(): Initializes a k-nearest neighbors classifier that predicts class based on the closest training examples."
   ]
  },
  {
   "cell_type": "markdown",
   "id": "a6d7db4b",
   "metadata": {},
   "source": [
    "## Model Training and Prediction with Scaled Features"
   ]
  },
  {
   "cell_type": "code",
   "execution_count": 37,
   "id": "59567050",
   "metadata": {},
   "outputs": [],
   "source": [
    "def pred(model):\n",
    "         model.fit(X_train_scaled,y_train)\n",
    "         pre = model.predict(X_test_scaled)\n",
    "         print(classification_report(y_test,pre))"
   ]
  },
  {
   "cell_type": "markdown",
   "id": "413b2cbf",
   "metadata": {},
   "source": [
    "The pred function takes a machine learning model as input, trains it on the scaled training dataset (X_train_scaled and y_train_scaled), and evaluates its performance on the test dataset. After training, the model predicts the labels for X_test. The function then prints a classification report that provides detailed metrics (precision, recall, F1-score, and support) for each class based on the actual labels (y_test) and the predicted values (pre)."
   ]
  },
  {
   "cell_type": "markdown",
   "id": "99ccf2ce",
   "metadata": {},
   "source": [
    "### Logistic Regression"
   ]
  },
  {
   "cell_type": "code",
   "execution_count": 38,
   "id": "f1155add",
   "metadata": {},
   "outputs": [
    {
     "name": "stdout",
     "output_type": "stream",
     "text": [
      "              precision    recall  f1-score   support\n",
      "\n",
      "           0       0.97      0.98      0.98        63\n",
      "           1       0.99      0.98      0.99       108\n",
      "\n",
      "    accuracy                           0.98       171\n",
      "   macro avg       0.98      0.98      0.98       171\n",
      "weighted avg       0.98      0.98      0.98       171\n",
      "\n"
     ]
    }
   ],
   "source": [
    "pred(logistic)"
   ]
  },
  {
   "cell_type": "markdown",
   "id": "3e803e64",
   "metadata": {},
   "source": [
    "### Precision:\n",
    "Precision indicates the proportion of true positive predictions out of all positive predictions. A precision of 0.97 for class 0 means that 97% of the instances predicted as class 0 were actually class 0, while 99% of the instances predicted as class 1 were correctly identified.\n",
    "\n",
    "### Recall:\n",
    "Recall (or Sensitivity) measures the proportion of actual positives that were correctly identified. A recall of 0.98 for both classes indicates that 98% of the actual instances for each class were successfully predicted.\n"
   ]
  },
  {
   "cell_type": "markdown",
   "id": "44407ab2",
   "metadata": {},
   "source": [
    "_____________________________________________________________________________________________"
   ]
  },
  {
   "cell_type": "markdown",
   "id": "1c07c8b8",
   "metadata": {},
   "source": [
    " ### Decision Tree Classifier"
   ]
  },
  {
   "cell_type": "code",
   "execution_count": 39,
   "id": "a1effa87",
   "metadata": {},
   "outputs": [
    {
     "name": "stdout",
     "output_type": "stream",
     "text": [
      "              precision    recall  f1-score   support\n",
      "\n",
      "           0       0.87      0.94      0.90        63\n",
      "           1       0.96      0.92      0.94       108\n",
      "\n",
      "    accuracy                           0.92       171\n",
      "   macro avg       0.91      0.93      0.92       171\n",
      "weighted avg       0.93      0.92      0.92       171\n",
      "\n"
     ]
    }
   ],
   "source": [
    "pred(decision)"
   ]
  },
  {
   "cell_type": "markdown",
   "id": "f092acdd",
   "metadata": {},
   "source": [
    "### Precision:\n",
    "Precision indicates the proportion of true positive predictions out of all positive predictions. A precision of 0.87 for class 0 means that 87% of the instances predicted as class 0 were actually class 0, while 96% of the instances predicted as class 1 were correctly identified.\n",
    "\n",
    "### Recall:\n",
    "Recall (or Sensitivity) measures the proportion of actual positives that were correctly identified. A recall of 0.94 for class 0 means that the model correctly predicted 94% of the actual class 0 instances, while for class 1, a recall of 0.92 means that 92% of the actual class 1 instances were successfully predicted."
   ]
  },
  {
   "cell_type": "markdown",
   "id": "2943866d",
   "metadata": {},
   "source": [
    "_____________________________________________________________________________________________"
   ]
  },
  {
   "cell_type": "markdown",
   "id": "9d739f58",
   "metadata": {},
   "source": [
    "###  Random Forest Classifier"
   ]
  },
  {
   "cell_type": "code",
   "execution_count": 40,
   "id": "23b52505",
   "metadata": {},
   "outputs": [
    {
     "name": "stdout",
     "output_type": "stream",
     "text": [
      "              precision    recall  f1-score   support\n",
      "\n",
      "           0       0.97      0.94      0.95        63\n",
      "           1       0.96      0.98      0.97       108\n",
      "\n",
      "    accuracy                           0.96       171\n",
      "   macro avg       0.97      0.96      0.96       171\n",
      "weighted avg       0.96      0.96      0.96       171\n",
      "\n"
     ]
    }
   ],
   "source": [
    "pred(random)"
   ]
  },
  {
   "cell_type": "markdown",
   "id": "2360e449",
   "metadata": {},
   "source": [
    "## Precision:\n",
    "Precision indicates the proportion of true positive predictions out of all positive predictions. A precision of 0.97 for class 0 means that 97% of the instances predicted as class 0 were actually class 0, while for class 1, a precision of 0.96 indicates that 96% of the instances predicted as class 1 were correctly identified.\n",
    "\n",
    "## Recall:\n",
    "Recall (or Sensitivity) measures the proportion of actual positives that were correctly identified. A recall of 0.94 for class 0 means that the model correctly predicted 94% of the actual class 0 instances, whereas for class 1, a recall of 0.98 means that 98% of the actual class 1 instances were successfully predicted."
   ]
  },
  {
   "cell_type": "markdown",
   "id": "97c4539a",
   "metadata": {},
   "source": [
    "_____________________________________________________________________________________________"
   ]
  },
  {
   "cell_type": "markdown",
   "id": "b24a5780",
   "metadata": {},
   "source": [
    "### Support Vector Machine (SVM)"
   ]
  },
  {
   "cell_type": "code",
   "execution_count": 41,
   "id": "a93f4c38",
   "metadata": {},
   "outputs": [
    {
     "name": "stdout",
     "output_type": "stream",
     "text": [
      "              precision    recall  f1-score   support\n",
      "\n",
      "           0       0.97      0.97      0.97        63\n",
      "           1       0.98      0.98      0.98       108\n",
      "\n",
      "    accuracy                           0.98       171\n",
      "   macro avg       0.97      0.97      0.97       171\n",
      "weighted avg       0.98      0.98      0.98       171\n",
      "\n"
     ]
    }
   ],
   "source": [
    "pred(support)"
   ]
  },
  {
   "cell_type": "markdown",
   "id": "81c69c0a",
   "metadata": {},
   "source": [
    "### Precision:\n",
    "Precision indicates the proportion of true positive predictions out of all positive predictions. A precision of 0.97 for class 0 means that 97% of the instances predicted as class 0 were actually class 0. For class 1, a precision of 0.98 indicates that 98% of the instances predicted as class 1 were correctly identified.\n",
    "\n",
    "### Recall:\n",
    "Recall (or Sensitivity) measures the proportion of actual positives that were correctly identified. A recall of 0.97 for class 0 indicates that the model correctly predicted 97% of the actual class 0 instances. For class 1, a recall of 0.98 means that the model successfully predicted 98% of the actual class 1 instances."
   ]
  },
  {
   "cell_type": "markdown",
   "id": "b04b5027",
   "metadata": {},
   "source": [
    "_____________________________________________________________________________________________"
   ]
  },
  {
   "cell_type": "markdown",
   "id": "b0d98d25",
   "metadata": {},
   "source": [
    "### k-Nearest Neighbors (k-NN)"
   ]
  },
  {
   "cell_type": "code",
   "execution_count": 42,
   "id": "ab85eac5",
   "metadata": {},
   "outputs": [
    {
     "name": "stdout",
     "output_type": "stream",
     "text": [
      "              precision    recall  f1-score   support\n",
      "\n",
      "           0       0.98      0.95      0.97        63\n",
      "           1       0.97      0.99      0.98       108\n",
      "\n",
      "    accuracy                           0.98       171\n",
      "   macro avg       0.98      0.97      0.97       171\n",
      "weighted avg       0.98      0.98      0.98       171\n",
      "\n"
     ]
    }
   ],
   "source": [
    "pred(knearst)"
   ]
  },
  {
   "cell_type": "markdown",
   "id": "c3fa241e",
   "metadata": {},
   "source": [
    "### Precision:\n",
    "Precision indicates the proportion of true positive predictions out of all positive predictions. A precision of 0.98 for class 0 means that 98% of the instances predicted as class 0 were actually class 0. For class 1, a precision of 0.97 indicates that 97% of the instances predicted as class 1 were correctly identified.\n",
    "\n",
    "### Recall:\n",
    "Recall (or Sensitivity) measures the proportion of actual positives that were correctly identified. A recall of 0.95 for class 0 indicates that the model correctly predicted 95% of the actual class 0 instances. For class 1, a recall of 0.99 means that the model successfully predicted 99% of the actual class 1 instances."
   ]
  },
  {
   "cell_type": "markdown",
   "id": "7ea677b0",
   "metadata": {},
   "source": [
    "_____________________________________________________________________________________________"
   ]
  },
  {
   "cell_type": "markdown",
   "id": "dd1e9fe2",
   "metadata": {},
   "source": [
    "# Model Comparison "
   ]
  },
  {
   "cell_type": "code",
   "execution_count": 43,
   "id": "263c2fd0",
   "metadata": {},
   "outputs": [],
   "source": [
    "models=[logistic ,\n",
    "decision,\n",
    "random,\n",
    "support,\n",
    "knearst]"
   ]
  },
  {
   "cell_type": "markdown",
   "id": "e2d3578d",
   "metadata": {},
   "source": [
    "# Best Model:"
   ]
  },
  {
   "cell_type": "code",
   "execution_count": 57,
   "id": "dd0c4330",
   "metadata": {},
   "outputs": [
    {
     "name": "stdout",
     "output_type": "stream",
     "text": [
      "\n",
      "best model\n",
      "Model: LogisticRegression() with f1_score: 0.9766081871345029\n"
     ]
    }
   ],
   "source": [
    "def best(models):\n",
    "    best_model = None\n",
    "    best_f1 = 0\n",
    "\n",
    "    for model1 in models:\n",
    "        model1.fit(X_train_scaled, y_train)\n",
    "        pre1 = model.predict(X_test_scaled)\n",
    "        f1 = f1_score(y_test,pre1,average=\"weighted\")\n",
    "    \n",
    "        if f1>best_f1:\n",
    "            best_f1 = f1\n",
    "            best_model = model1\n",
    "        \n",
    "    print(\"\\nbest model\")\n",
    "    print(f\"Model: {best_model} with f1_score: {best_f1}\")\n",
    "    \n",
    "best(models)"
   ]
  },
  {
   "cell_type": "markdown",
   "id": "46385aba",
   "metadata": {},
   "source": [
    "The best model was selected based on its F1 score, which balances precision and recall, making it a reliable metric for evaluating the model's performance, especially in scenarios with class imbalance.\n",
    "\n",
    "### Why the LogisticRegressionl is Suitable:\n",
    "\n",
    "F1 Score: The model achieved the highest F1 score compared to others. The F1 score is a crucial metric that combines both precision and recall. A high F1 score means that the model not only identifies many of the positive instances correctly (high recall) but also minimizes false positives (high precision). This is particularly important in cases where false positives or false negatives can lead to significant consequences."
   ]
  },
  {
   "cell_type": "code",
   "execution_count": null,
   "id": "e28ae7b8",
   "metadata": {},
   "outputs": [],
   "source": []
  },
  {
   "cell_type": "markdown",
   "id": "80d8d3f3",
   "metadata": {},
   "source": [
    "# Worst Model:"
   ]
  },
  {
   "cell_type": "code",
   "execution_count": 58,
   "id": "c20a04da",
   "metadata": {},
   "outputs": [
    {
     "name": "stdout",
     "output_type": "stream",
     "text": [
      "\n",
      "Worst Model:\n",
      "Model: DecisionTreeClassifier() with F1_Score: 0.918615842945535\n"
     ]
    }
   ],
   "source": [
    "def worst(models):\n",
    "    worst_model = None\n",
    "    worst_f1 = float('inf') \n",
    "\n",
    "    for model1 in models:\n",
    "        model1.fit(X_train_scaled, y_train)  \n",
    "        \n",
    "        pre1 = model1.predict(X_test_scaled)  \n",
    "        \n",
    "        f1 = f1_score(y_test, pre1, average='weighted')  \n",
    "        \n",
    "        if f1 < worst_f1:\n",
    "            worst_f1 = f1\n",
    "            worst_model = model1  \n",
    "            \n",
    "    print(\"\\nWorst Model:\")\n",
    "    print(f\"Model: {worst_model} with F1_Score: {worst_f1}\")\n",
    "\n",
    "worst(models)\n"
   ]
  },
  {
   "cell_type": "markdown",
   "id": "49bf3d85",
   "metadata": {},
   "source": [
    "The worst model was identified due to its consistently low F1 score, indicating a poor balance between precision and recall. This suggests that the model struggles to accurately predict both classes, resulting in high rates of false positives and false negatives. Such performance issues make the model unreliable, particularly in situations with class imbalance, where it fails to capture the minority class effectively."
   ]
  },
  {
   "cell_type": "code",
   "execution_count": null,
   "id": "d08fe05a",
   "metadata": {},
   "outputs": [],
   "source": []
  }
 ],
 "metadata": {
  "kernelspec": {
   "display_name": "Python 3 (ipykernel)",
   "language": "python",
   "name": "python3"
  },
  "language_info": {
   "codemirror_mode": {
    "name": "ipython",
    "version": 3
   },
   "file_extension": ".py",
   "mimetype": "text/x-python",
   "name": "python",
   "nbconvert_exporter": "python",
   "pygments_lexer": "ipython3",
   "version": "3.11.5"
  }
 },
 "nbformat": 4,
 "nbformat_minor": 5
}
